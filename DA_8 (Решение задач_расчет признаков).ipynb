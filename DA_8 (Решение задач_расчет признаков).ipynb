{
 "cells": [
  {
   "cell_type": "markdown",
   "metadata": {},
   "source": [
    "# Расчет признаков. \n",
    "## Взяты первые матрицы из таблицы \n",
    "1. P полож(резк)\n",
    "2. P(1-10)"
   ]
  },
  {
   "cell_type": "code",
   "execution_count": 99,
   "metadata": {},
   "outputs": [],
   "source": [
    "import quantecon as qe\n",
    "import numpy as np\n",
    "from mpl_toolkits.mplot3d import Axes3D\n",
    "import matplotlib.pyplot as plt\n",
    "%matplotlib inline"
   ]
  },
  {
   "cell_type": "code",
   "execution_count": 100,
   "metadata": {},
   "outputs": [],
   "source": [
    "P1=[[0.0232460593460577, 0.00560174845597652, 0.0467179883425076, 0.0665592773073191, 0.857874926548139],\n",
    "     [0.0136463870422535, 0.0490583821470984, 0.0166987360598636, 0.1296937249811, 0.790902769769684],\n",
    "      [0.0462073802724979, 0.00163516165267978, 0.0122184468821205, 0.00806716298524617, 0.931871848207456],\n",
    "      [0.0674564304316847, 0.118393449396849, 0.0945556903438833, 0.0289925763492009, 0.690601853478382],\n",
    "     [0.0719504828182986, 0.237872699666635, 0.137118006112976, 0.0391436205590491, 0.513915190843042]]"
   ]
  },
  {
   "cell_type": "code",
   "execution_count": 101,
   "metadata": {},
   "outputs": [
    {
     "name": "stdout",
     "output_type": "stream",
     "text": [
      "<bound method MarkovChain.__repr__ of Markov chain with transition matrix \n",
      "P = \n",
      "[[0.02324606 0.00560175 0.04671799 0.06655928 0.85787493]\n",
      " [0.01364639 0.04905838 0.01669874 0.12969372 0.79090277]\n",
      " [0.04620738 0.00163516 0.01221845 0.00806716 0.93187185]\n",
      " [0.06745643 0.11839345 0.09455569 0.02899258 0.69060185]\n",
      " [0.07195048 0.2378727  0.13711801 0.03914362 0.51391519]]>\n"
     ]
    }
   ],
   "source": [
    "#создаем экземпляр цепи маркова\n",
    "mc=qe.MarkovChain(P1)\n",
    "print(mc)"
   ]
  },
  {
   "cell_type": "code",
   "execution_count": 102,
   "metadata": {},
   "outputs": [
    {
     "data": {
      "text/plain": [
       "True"
      ]
     },
     "execution_count": 102,
     "metadata": {},
     "output_type": "execute_result"
    }
   ],
   "source": [
    "#Проверим на разложимость (данная матрица неразложима)\n",
    "mc.is_irreducible"
   ]
  },
  {
   "cell_type": "code",
   "execution_count": 103,
   "metadata": {},
   "outputs": [
    {
     "data": {
      "text/plain": [
       "1"
      ]
     },
     "execution_count": 103,
     "metadata": {},
     "output_type": "execute_result"
    }
   ],
   "source": [
    "#Данная цепь образует 1 неразложимый класс\n",
    "mc.num_communication_classes"
   ]
  },
  {
   "cell_type": "code",
   "execution_count": 104,
   "metadata": {},
   "outputs": [
    {
     "data": {
      "text/plain": [
       "[array([0, 1, 2, 3, 4])]"
      ]
     },
     "execution_count": 104,
     "metadata": {},
     "output_type": "execute_result"
    }
   ],
   "source": [
    "mc.communication_classes"
   ]
  },
  {
   "cell_type": "code",
   "execution_count": 105,
   "metadata": {},
   "outputs": [
    {
     "data": {
      "text/plain": [
       "[array([0, 1, 2, 3, 4])]"
      ]
     },
     "execution_count": 105,
     "metadata": {},
     "output_type": "execute_result"
    }
   ],
   "source": [
    "mc.recurrent_classes"
   ]
  },
  {
   "cell_type": "code",
   "execution_count": 106,
   "metadata": {},
   "outputs": [
    {
     "data": {
      "text/plain": [
       "True"
      ]
     },
     "execution_count": 106,
     "metadata": {},
     "output_type": "execute_result"
    }
   ],
   "source": [
    "#Проверим на апериодичность (данная матрица переодична)\n",
    "mc.is_aperiodic"
   ]
  },
  {
   "cell_type": "code",
   "execution_count": 107,
   "metadata": {},
   "outputs": [
    {
     "data": {
      "text/plain": [
       "1"
      ]
     },
     "execution_count": 107,
     "metadata": {},
     "output_type": "execute_result"
    }
   ],
   "source": [
    "#Период\n",
    "mc.period"
   ]
  },
  {
   "cell_type": "code",
   "execution_count": 108,
   "metadata": {},
   "outputs": [
    {
     "data": {
      "text/plain": [
       "array([0, 4, 1, 4, 2, 4, 2, 4, 2, 4, 2, 4])"
      ]
     },
     "execution_count": 108,
     "metadata": {},
     "output_type": "execute_result"
    }
   ],
   "source": [
    "mc.simulate(12,init=0)"
   ]
  },
  {
   "cell_type": "code",
   "execution_count": 109,
   "metadata": {},
   "outputs": [],
   "source": [
    "P2=[[0.003407870408, 0.01806985987, 0.01954364792, 0.01666851099, 0.9423101108],\n",
    "    [0.04513286019, 0.03464884503, 0.004095797233, 0.002455417135, 0.9136670804],\n",
    "    [0.04253086727, 0.003216659271, 0.1020704951, 0.005207838836, 0.8469741396],\n",
    "    [0.05805748631, 0.01464032011, 0.004289838442, 0.02608821783, 0.8969241373],\n",
    "    [0.04400335537, 0.05817956438, 0.004399909611, 0.01972704556, 0.8736901251]]"
   ]
  },
  {
   "cell_type": "code",
   "execution_count": 110,
   "metadata": {},
   "outputs": [
    {
     "name": "stdout",
     "output_type": "stream",
     "text": [
      "<bound method MarkovChain.__repr__ of Markov chain with transition matrix \n",
      "P = \n",
      "[[0.00340787 0.01806986 0.01954365 0.01666851 0.94231011]\n",
      " [0.04513286 0.03464885 0.0040958  0.00245542 0.91366708]\n",
      " [0.04253087 0.00321666 0.1020705  0.00520784 0.84697414]\n",
      " [0.05805749 0.01464032 0.00428984 0.02608822 0.89692414]\n",
      " [0.04400336 0.05817956 0.00439991 0.01972705 0.87369013]]>\n"
     ]
    }
   ],
   "source": [
    "mc2=qe.MarkovChain(P2)\n",
    "print(mc2)"
   ]
  },
  {
   "cell_type": "code",
   "execution_count": 111,
   "metadata": {},
   "outputs": [
    {
     "data": {
      "text/plain": [
       "True"
      ]
     },
     "execution_count": 111,
     "metadata": {},
     "output_type": "execute_result"
    }
   ],
   "source": [
    "#Проверим на разложимость (данная матрица неразложима)\n",
    "mc2.is_irreducible"
   ]
  },
  {
   "cell_type": "code",
   "execution_count": 112,
   "metadata": {},
   "outputs": [
    {
     "data": {
      "text/plain": [
       "1"
      ]
     },
     "execution_count": 112,
     "metadata": {},
     "output_type": "execute_result"
    }
   ],
   "source": [
    "mc2.num_communication_classes"
   ]
  },
  {
   "cell_type": "code",
   "execution_count": 113,
   "metadata": {},
   "outputs": [
    {
     "data": {
      "text/plain": [
       "[array([0, 1, 2, 3, 4])]"
      ]
     },
     "execution_count": 113,
     "metadata": {},
     "output_type": "execute_result"
    }
   ],
   "source": [
    "mc2.communication_classes"
   ]
  },
  {
   "cell_type": "code",
   "execution_count": 114,
   "metadata": {},
   "outputs": [
    {
     "data": {
      "text/plain": [
       "[array([0, 1, 2, 3, 4])]"
      ]
     },
     "execution_count": 114,
     "metadata": {},
     "output_type": "execute_result"
    }
   ],
   "source": [
    "mc2.recurrent_classes"
   ]
  },
  {
   "cell_type": "code",
   "execution_count": 115,
   "metadata": {},
   "outputs": [
    {
     "data": {
      "text/plain": [
       "True"
      ]
     },
     "execution_count": 115,
     "metadata": {},
     "output_type": "execute_result"
    }
   ],
   "source": [
    "#Проверим на апериодичность\n",
    "mc2.is_aperiodic"
   ]
  },
  {
   "cell_type": "code",
   "execution_count": 116,
   "metadata": {},
   "outputs": [
    {
     "data": {
      "text/plain": [
       "1"
      ]
     },
     "execution_count": 116,
     "metadata": {},
     "output_type": "execute_result"
    }
   ],
   "source": [
    "#Период\n",
    "mc2.period"
   ]
  },
  {
   "cell_type": "code",
   "execution_count": 117,
   "metadata": {},
   "outputs": [
    {
     "data": {
      "text/plain": [
       "array([0, 4, 4, 4, 0, 4, 3, 0, 4, 1, 0, 4])"
      ]
     },
     "execution_count": 117,
     "metadata": {},
     "output_type": "execute_result"
    }
   ],
   "source": [
    "mc2.simulate(12,init=0)"
   ]
  },
  {
   "cell_type": "code",
   "execution_count": 118,
   "metadata": {},
   "outputs": [],
   "source": [
    "P3=[[0.03981050242,0.06495668917,0.03857361881,0.03042645428,0.8262327353],\n",
    "[0.02784335616,0.007737903625,0.005239314131,0.01637654126,0.9428028848],\n",
    "[0.09831946025,0.05926588909,0.05143485484,0.1005747777,0.6904050181],\n",
    "[0.03524268554,0.04474536887,0.06311672581,0.05203553997,0.8048596798],\n",
    "[0.04109990146,0.02135395227,0.04146709912,0.03515125786,0.8609277893]]"
   ]
  },
  {
   "cell_type": "code",
   "execution_count": 119,
   "metadata": {},
   "outputs": [
    {
     "name": "stdout",
     "output_type": "stream",
     "text": [
      "<bound method MarkovChain.__repr__ of Markov chain with transition matrix \n",
      "P = \n",
      "[[0.0398105  0.06495669 0.03857362 0.03042645 0.82623274]\n",
      " [0.02784336 0.0077379  0.00523931 0.01637654 0.94280288]\n",
      " [0.09831946 0.05926589 0.05143485 0.10057478 0.69040502]\n",
      " [0.03524269 0.04474537 0.06311673 0.05203554 0.80485968]\n",
      " [0.0410999  0.02135395 0.0414671  0.03515126 0.86092779]]>\n"
     ]
    }
   ],
   "source": [
    "mc3=qe.MarkovChain(P3)\n",
    "print(mc3)"
   ]
  },
  {
   "cell_type": "code",
   "execution_count": 120,
   "metadata": {},
   "outputs": [
    {
     "data": {
      "text/plain": [
       "True"
      ]
     },
     "execution_count": 120,
     "metadata": {},
     "output_type": "execute_result"
    }
   ],
   "source": [
    "mc3.is_irreducible"
   ]
  },
  {
   "cell_type": "code",
   "execution_count": 121,
   "metadata": {},
   "outputs": [
    {
     "data": {
      "text/plain": [
       "1"
      ]
     },
     "execution_count": 121,
     "metadata": {},
     "output_type": "execute_result"
    }
   ],
   "source": [
    "mc3.num_communication_classes"
   ]
  },
  {
   "cell_type": "code",
   "execution_count": 122,
   "metadata": {},
   "outputs": [
    {
     "data": {
      "text/plain": [
       "[array([0, 1, 2, 3, 4])]"
      ]
     },
     "execution_count": 122,
     "metadata": {},
     "output_type": "execute_result"
    }
   ],
   "source": [
    "mc3.communication_classes"
   ]
  },
  {
   "cell_type": "code",
   "execution_count": 123,
   "metadata": {},
   "outputs": [
    {
     "data": {
      "text/plain": [
       "[array([0, 1, 2, 3, 4])]"
      ]
     },
     "execution_count": 123,
     "metadata": {},
     "output_type": "execute_result"
    }
   ],
   "source": [
    "mc3.recurrent_classes"
   ]
  },
  {
   "cell_type": "code",
   "execution_count": 124,
   "metadata": {},
   "outputs": [
    {
     "data": {
      "text/plain": [
       "True"
      ]
     },
     "execution_count": 124,
     "metadata": {},
     "output_type": "execute_result"
    }
   ],
   "source": [
    "#Проверим на апериодичность\n",
    "mc3.is_aperiodic"
   ]
  },
  {
   "cell_type": "code",
   "execution_count": 125,
   "metadata": {},
   "outputs": [
    {
     "data": {
      "text/plain": [
       "1"
      ]
     },
     "execution_count": 125,
     "metadata": {},
     "output_type": "execute_result"
    }
   ],
   "source": [
    "#Период\n",
    "mc3.period"
   ]
  },
  {
   "cell_type": "code",
   "execution_count": 126,
   "metadata": {},
   "outputs": [
    {
     "data": {
      "text/plain": [
       "array([0, 4, 4, 4, 4, 4, 4, 4, 2, 4, 4, 4])"
      ]
     },
     "execution_count": 126,
     "metadata": {},
     "output_type": "execute_result"
    }
   ],
   "source": [
    "mc3.simulate(12,init=0)"
   ]
  },
  {
   "cell_type": "code",
   "execution_count": 127,
   "metadata": {},
   "outputs": [],
   "source": [
    "P4=[[0.0355290328,0.04511749448,0.02287085724,0.01315736716,0.8833252483],\n",
    "[0.01868372706,0.1299598041,0.1203421242,0.0682766782,0.6627376665],\n",
    "[0.005528940424,0.0389864698,0.03167713187,0.02736129022,0.8964461677],\n",
    "[0.1451803416,0.03038348942,0.0268245473,0.06509280771,0.7325188139],\n",
    "[0.07278494759,0.07677333778,0.008415631524,0.03454222864,0.8074838545]]"
   ]
  },
  {
   "cell_type": "code",
   "execution_count": 128,
   "metadata": {},
   "outputs": [
    {
     "name": "stdout",
     "output_type": "stream",
     "text": [
      "<bound method MarkovChain.__repr__ of Markov chain with transition matrix \n",
      "P = \n",
      "[[0.03552903 0.04511749 0.02287086 0.01315737 0.88332525]\n",
      " [0.01868373 0.1299598  0.12034212 0.06827668 0.66273767]\n",
      " [0.00552894 0.03898647 0.03167713 0.02736129 0.89644617]\n",
      " [0.14518034 0.03038349 0.02682455 0.06509281 0.73251881]\n",
      " [0.07278495 0.07677334 0.00841563 0.03454223 0.80748385]]>\n"
     ]
    }
   ],
   "source": [
    "mc4=qe.MarkovChain(P4)\n",
    "print(mc4)"
   ]
  },
  {
   "cell_type": "code",
   "execution_count": 129,
   "metadata": {},
   "outputs": [
    {
     "data": {
      "text/plain": [
       "True"
      ]
     },
     "execution_count": 129,
     "metadata": {},
     "output_type": "execute_result"
    }
   ],
   "source": [
    "mc4.is_irreducible"
   ]
  },
  {
   "cell_type": "code",
   "execution_count": 130,
   "metadata": {},
   "outputs": [
    {
     "data": {
      "text/plain": [
       "1"
      ]
     },
     "execution_count": 130,
     "metadata": {},
     "output_type": "execute_result"
    }
   ],
   "source": [
    "mc4.num_communication_classes"
   ]
  },
  {
   "cell_type": "code",
   "execution_count": 131,
   "metadata": {},
   "outputs": [
    {
     "data": {
      "text/plain": [
       "[array([0, 1, 2, 3, 4])]"
      ]
     },
     "execution_count": 131,
     "metadata": {},
     "output_type": "execute_result"
    }
   ],
   "source": [
    "mc4.communication_classes"
   ]
  },
  {
   "cell_type": "code",
   "execution_count": 132,
   "metadata": {},
   "outputs": [
    {
     "data": {
      "text/plain": [
       "[array([0, 1, 2, 3, 4])]"
      ]
     },
     "execution_count": 132,
     "metadata": {},
     "output_type": "execute_result"
    }
   ],
   "source": [
    "mc4.recurrent_classes"
   ]
  },
  {
   "cell_type": "code",
   "execution_count": 133,
   "metadata": {},
   "outputs": [
    {
     "data": {
      "text/plain": [
       "True"
      ]
     },
     "execution_count": 133,
     "metadata": {},
     "output_type": "execute_result"
    }
   ],
   "source": [
    "#Проверим на апериодичность\n",
    "mc4.is_aperiodic"
   ]
  },
  {
   "cell_type": "code",
   "execution_count": 134,
   "metadata": {},
   "outputs": [
    {
     "data": {
      "text/plain": [
       "1"
      ]
     },
     "execution_count": 134,
     "metadata": {},
     "output_type": "execute_result"
    }
   ],
   "source": [
    "#Период\n",
    "mc4.period"
   ]
  },
  {
   "cell_type": "code",
   "execution_count": 135,
   "metadata": {},
   "outputs": [
    {
     "data": {
      "text/plain": [
       "array([0, 4, 4, 4, 4, 4, 4, 4, 0, 4, 4, 4])"
      ]
     },
     "execution_count": 135,
     "metadata": {},
     "output_type": "execute_result"
    }
   ],
   "source": [
    "mc4.simulate(12,init=0)"
   ]
  },
  {
   "cell_type": "code",
   "execution_count": null,
   "metadata": {},
   "outputs": [],
   "source": []
  },
  {
   "cell_type": "code",
   "execution_count": 136,
   "metadata": {},
   "outputs": [],
   "source": [
    "P5=[[0,0.2197192828,0.196783264,0.2492150375,0.3342824158],\n",
    "[0.2774944612,0,0.2612031801,0.2218092767,0.2394930821],\n",
    "[0.08406331128,0.171050228,0.5547862007,0,0.19010026],\n",
    "[0,0.08507360996,0.2230691724,0.332791398,0.3590658196],\n",
    "[0,0.2576231624,0.1501625937,0.4686043822,0.1236098617]]"
   ]
  },
  {
   "cell_type": "code",
   "execution_count": 137,
   "metadata": {},
   "outputs": [
    {
     "name": "stdout",
     "output_type": "stream",
     "text": [
      "<bound method MarkovChain.__repr__ of Markov chain with transition matrix \n",
      "P = \n",
      "[[0.         0.21971928 0.19678326 0.24921504 0.33428242]\n",
      " [0.27749446 0.         0.26120318 0.22180928 0.23949308]\n",
      " [0.08406331 0.17105023 0.5547862  0.         0.19010026]\n",
      " [0.         0.08507361 0.22306917 0.3327914  0.35906582]\n",
      " [0.         0.25762316 0.15016259 0.46860438 0.12360986]]>\n"
     ]
    }
   ],
   "source": [
    "mc5=qe.MarkovChain(P5)\n",
    "print(mc5)"
   ]
  },
  {
   "cell_type": "code",
   "execution_count": 138,
   "metadata": {},
   "outputs": [
    {
     "data": {
      "text/plain": [
       "True"
      ]
     },
     "execution_count": 138,
     "metadata": {},
     "output_type": "execute_result"
    }
   ],
   "source": [
    "mc5.is_irreducible"
   ]
  },
  {
   "cell_type": "code",
   "execution_count": 139,
   "metadata": {},
   "outputs": [
    {
     "data": {
      "text/plain": [
       "1"
      ]
     },
     "execution_count": 139,
     "metadata": {},
     "output_type": "execute_result"
    }
   ],
   "source": [
    "mc5.num_communication_classes"
   ]
  },
  {
   "cell_type": "code",
   "execution_count": 140,
   "metadata": {},
   "outputs": [
    {
     "data": {
      "text/plain": [
       "[array([0, 1, 2, 3, 4])]"
      ]
     },
     "execution_count": 140,
     "metadata": {},
     "output_type": "execute_result"
    }
   ],
   "source": [
    "mc5.communication_classes"
   ]
  },
  {
   "cell_type": "code",
   "execution_count": 141,
   "metadata": {},
   "outputs": [
    {
     "data": {
      "text/plain": [
       "[array([0, 1, 2, 3, 4])]"
      ]
     },
     "execution_count": 141,
     "metadata": {},
     "output_type": "execute_result"
    }
   ],
   "source": [
    "mc5.recurrent_classes"
   ]
  },
  {
   "cell_type": "code",
   "execution_count": 142,
   "metadata": {},
   "outputs": [
    {
     "data": {
      "text/plain": [
       "True"
      ]
     },
     "execution_count": 142,
     "metadata": {},
     "output_type": "execute_result"
    }
   ],
   "source": [
    "#Проверим на апериодичность\n",
    "mc5.is_aperiodic"
   ]
  },
  {
   "cell_type": "code",
   "execution_count": 143,
   "metadata": {},
   "outputs": [
    {
     "data": {
      "text/plain": [
       "1"
      ]
     },
     "execution_count": 143,
     "metadata": {},
     "output_type": "execute_result"
    }
   ],
   "source": [
    "#Период\n",
    "mc5.period"
   ]
  },
  {
   "cell_type": "code",
   "execution_count": 144,
   "metadata": {},
   "outputs": [
    {
     "data": {
      "text/plain": [
       "array([0, 4, 3, 4, 2, 1, 0, 3, 3, 4, 1, 0])"
      ]
     },
     "execution_count": 144,
     "metadata": {},
     "output_type": "execute_result"
    }
   ],
   "source": [
    "mc5.simulate(12,init=0)"
   ]
  },
  {
   "cell_type": "code",
   "execution_count": null,
   "metadata": {},
   "outputs": [],
   "source": []
  },
  {
   "cell_type": "code",
   "execution_count": 145,
   "metadata": {},
   "outputs": [],
   "source": [
    "P6=[[0.04093156809,0.04848782226,0.01811129584,0.04667921601,0.8457900978],\n",
    "[0.01979243132,0.08594862759,0.04605026383,0.0391250939,0.8090835834],\n",
    "[0.05491338482,0.04519347815,0.005125657309,0.04394498524,0.8508224945],\n",
    "[0.03964469824,0.0517019057,0.004791790746,0.01350249567,0.8903591096],\n",
    "[0.1155835332,0.1117185882,0.07976275684,0.04276391592,0.6501712059]]"
   ]
  },
  {
   "cell_type": "code",
   "execution_count": 146,
   "metadata": {},
   "outputs": [
    {
     "name": "stdout",
     "output_type": "stream",
     "text": [
      "<bound method MarkovChain.__repr__ of Markov chain with transition matrix \n",
      "P = \n",
      "[[0.04093157 0.04848782 0.0181113  0.04667922 0.8457901 ]\n",
      " [0.01979243 0.08594863 0.04605026 0.03912509 0.80908358]\n",
      " [0.05491338 0.04519348 0.00512566 0.04394499 0.85082249]\n",
      " [0.0396447  0.05170191 0.00479179 0.0135025  0.89035911]\n",
      " [0.11558353 0.11171859 0.07976276 0.04276392 0.65017121]]>\n"
     ]
    }
   ],
   "source": [
    "mc6=qe.MarkovChain(P6)\n",
    "print(mc6)"
   ]
  },
  {
   "cell_type": "code",
   "execution_count": 147,
   "metadata": {},
   "outputs": [
    {
     "data": {
      "text/plain": [
       "True"
      ]
     },
     "execution_count": 147,
     "metadata": {},
     "output_type": "execute_result"
    }
   ],
   "source": [
    "#Проверим на разложимость (данная матрица неразложима)\n",
    "mc6.is_irreducible"
   ]
  },
  {
   "cell_type": "code",
   "execution_count": 148,
   "metadata": {},
   "outputs": [
    {
     "data": {
      "text/plain": [
       "1"
      ]
     },
     "execution_count": 148,
     "metadata": {},
     "output_type": "execute_result"
    }
   ],
   "source": [
    "#Данная цепь образует 1 неразложимый класс\n",
    "mc6.num_communication_classes"
   ]
  },
  {
   "cell_type": "code",
   "execution_count": 149,
   "metadata": {},
   "outputs": [
    {
     "data": {
      "text/plain": [
       "[array([0, 1, 2, 3, 4])]"
      ]
     },
     "execution_count": 149,
     "metadata": {},
     "output_type": "execute_result"
    }
   ],
   "source": [
    "mc6.communication_classes"
   ]
  },
  {
   "cell_type": "code",
   "execution_count": 150,
   "metadata": {},
   "outputs": [
    {
     "data": {
      "text/plain": [
       "[array([0, 1, 2, 3, 4])]"
      ]
     },
     "execution_count": 150,
     "metadata": {},
     "output_type": "execute_result"
    }
   ],
   "source": [
    "mc6.recurrent_classes"
   ]
  },
  {
   "cell_type": "code",
   "execution_count": 151,
   "metadata": {},
   "outputs": [
    {
     "data": {
      "text/plain": [
       "True"
      ]
     },
     "execution_count": 151,
     "metadata": {},
     "output_type": "execute_result"
    }
   ],
   "source": [
    "#Проверим на апериодичность\n",
    "mc6.is_aperiodic"
   ]
  },
  {
   "cell_type": "code",
   "execution_count": 152,
   "metadata": {},
   "outputs": [
    {
     "data": {
      "text/plain": [
       "1"
      ]
     },
     "execution_count": 152,
     "metadata": {},
     "output_type": "execute_result"
    }
   ],
   "source": [
    "#Период\n",
    "mc6.period"
   ]
  },
  {
   "cell_type": "code",
   "execution_count": null,
   "metadata": {},
   "outputs": [],
   "source": []
  },
  {
   "cell_type": "code",
   "execution_count": 153,
   "metadata": {},
   "outputs": [],
   "source": [
    "P7=[[0.00685563054,0.01640025695,0.05036619569,0.01733671135,0.9090412055],\n",
    "[0.04307637385,0.04898340216,0.01226181288,0.02336216372,0.8723162474],\n",
    "[0.04578771588,0.02969407768,0.01169955505,0.01928774273,0.8935309087],\n",
    "[0.006429347006,0.162530292,0.02697881973,0.08820610567,0.7158554356],\n",
    "[0.004705016515,0.006198664368,0.04393713989,0.01195245438,0.9332067248]]"
   ]
  },
  {
   "cell_type": "code",
   "execution_count": 154,
   "metadata": {},
   "outputs": [
    {
     "name": "stdout",
     "output_type": "stream",
     "text": [
      "<bound method MarkovChain.__repr__ of Markov chain with transition matrix \n",
      "P = \n",
      "[[0.00685563 0.01640026 0.0503662  0.01733671 0.90904121]\n",
      " [0.04307637 0.0489834  0.01226181 0.02336216 0.87231625]\n",
      " [0.04578772 0.02969408 0.01169956 0.01928774 0.89353091]\n",
      " [0.00642935 0.16253029 0.02697882 0.08820611 0.71585544]\n",
      " [0.00470502 0.00619866 0.04393714 0.01195245 0.93320672]]>\n"
     ]
    }
   ],
   "source": [
    "mc7=qe.MarkovChain(P7)\n",
    "print(mc7)"
   ]
  },
  {
   "cell_type": "code",
   "execution_count": 155,
   "metadata": {},
   "outputs": [
    {
     "data": {
      "text/plain": [
       "True"
      ]
     },
     "execution_count": 155,
     "metadata": {},
     "output_type": "execute_result"
    }
   ],
   "source": [
    "#Проверим на разложимость (данная матрица неразложима)\n",
    "mc7.is_irreducible"
   ]
  },
  {
   "cell_type": "code",
   "execution_count": 156,
   "metadata": {},
   "outputs": [
    {
     "data": {
      "text/plain": [
       "1"
      ]
     },
     "execution_count": 156,
     "metadata": {},
     "output_type": "execute_result"
    }
   ],
   "source": [
    "#Данная цепь образует 1 неразложимый класс\n",
    "mc7.num_communication_classes"
   ]
  },
  {
   "cell_type": "code",
   "execution_count": 157,
   "metadata": {},
   "outputs": [
    {
     "data": {
      "text/plain": [
       "[array([0, 1, 2, 3, 4])]"
      ]
     },
     "execution_count": 157,
     "metadata": {},
     "output_type": "execute_result"
    }
   ],
   "source": [
    "mc7.communication_classes"
   ]
  },
  {
   "cell_type": "code",
   "execution_count": 158,
   "metadata": {},
   "outputs": [
    {
     "data": {
      "text/plain": [
       "[array([0, 1, 2, 3, 4])]"
      ]
     },
     "execution_count": 158,
     "metadata": {},
     "output_type": "execute_result"
    }
   ],
   "source": [
    "mc7.recurrent_classes"
   ]
  },
  {
   "cell_type": "code",
   "execution_count": 159,
   "metadata": {},
   "outputs": [
    {
     "data": {
      "text/plain": [
       "True"
      ]
     },
     "execution_count": 159,
     "metadata": {},
     "output_type": "execute_result"
    }
   ],
   "source": [
    "#Проверим на апериодичность\n",
    "mc7.is_aperiodic"
   ]
  },
  {
   "cell_type": "code",
   "execution_count": 160,
   "metadata": {},
   "outputs": [
    {
     "data": {
      "text/plain": [
       "1"
      ]
     },
     "execution_count": 160,
     "metadata": {},
     "output_type": "execute_result"
    }
   ],
   "source": [
    "#Период\n",
    "mc7.period"
   ]
  },
  {
   "cell_type": "code",
   "execution_count": 179,
   "metadata": {},
   "outputs": [],
   "source": [
    "P8=[[0.034966972, 0.019001252, 0.007437212, 0.021869966, 0.916724599],\n",
    "[0.067111946, 0.038841389, 0.03761967, 0.004851325, 0.85157567],\n",
    "[0.178412305, 0.056370555, 0.053259225, 0.013091102, 0.698866812],\n",
    "[0.033934975, 0.041621044, 0.044161263, 0.023206893, 0.857075826],\n",
    "[0.006062262, 0.01045856, 0.011370976, 0.036688231, 0.935419971]]"
   ]
  },
  {
   "cell_type": "code",
   "execution_count": 180,
   "metadata": {},
   "outputs": [
    {
     "name": "stdout",
     "output_type": "stream",
     "text": [
      "<bound method MarkovChain.__repr__ of Markov chain with transition matrix \n",
      "P = \n",
      "[[0.03496697 0.01900125 0.00743721 0.02186997 0.9167246 ]\n",
      " [0.06711195 0.03884139 0.03761967 0.00485133 0.85157567]\n",
      " [0.1784123  0.05637056 0.05325923 0.0130911  0.69886681]\n",
      " [0.03393497 0.04162104 0.04416126 0.02320689 0.85707583]\n",
      " [0.00606226 0.01045856 0.01137098 0.03668823 0.93541997]]>\n"
     ]
    }
   ],
   "source": [
    "mc8=qe.MarkovChain(P8)\n",
    "print(mc8)"
   ]
  },
  {
   "cell_type": "code",
   "execution_count": 163,
   "metadata": {},
   "outputs": [
    {
     "data": {
      "text/plain": [
       "True"
      ]
     },
     "execution_count": 163,
     "metadata": {},
     "output_type": "execute_result"
    }
   ],
   "source": [
    "#Проверим на разложимость (данная матрица неразложима)\n",
    "mc8.is_irreducible"
   ]
  },
  {
   "cell_type": "code",
   "execution_count": 164,
   "metadata": {},
   "outputs": [
    {
     "data": {
      "text/plain": [
       "1"
      ]
     },
     "execution_count": 164,
     "metadata": {},
     "output_type": "execute_result"
    }
   ],
   "source": [
    "#Данная цепь образует 1 неразложимый класс\n",
    "mc8.num_communication_classes"
   ]
  },
  {
   "cell_type": "code",
   "execution_count": 165,
   "metadata": {},
   "outputs": [
    {
     "data": {
      "text/plain": [
       "[array([0, 1, 2, 3, 4])]"
      ]
     },
     "execution_count": 165,
     "metadata": {},
     "output_type": "execute_result"
    }
   ],
   "source": [
    "mc8.communication_classes"
   ]
  },
  {
   "cell_type": "code",
   "execution_count": 166,
   "metadata": {},
   "outputs": [
    {
     "data": {
      "text/plain": [
       "[array([0, 1, 2, 3, 4])]"
      ]
     },
     "execution_count": 166,
     "metadata": {},
     "output_type": "execute_result"
    }
   ],
   "source": [
    "mc8.recurrent_classes"
   ]
  },
  {
   "cell_type": "code",
   "execution_count": 167,
   "metadata": {},
   "outputs": [
    {
     "data": {
      "text/plain": [
       "True"
      ]
     },
     "execution_count": 167,
     "metadata": {},
     "output_type": "execute_result"
    }
   ],
   "source": [
    "#Проверим на апериодичность\n",
    "mc8.is_aperiodic"
   ]
  },
  {
   "cell_type": "code",
   "execution_count": 168,
   "metadata": {},
   "outputs": [
    {
     "data": {
      "text/plain": [
       "1"
      ]
     },
     "execution_count": 168,
     "metadata": {},
     "output_type": "execute_result"
    }
   ],
   "source": [
    "#Период\n",
    "mc8.period"
   ]
  },
  {
   "cell_type": "code",
   "execution_count": 181,
   "metadata": {},
   "outputs": [],
   "source": [
    "P9=[[0.2742977627,0.2394912027,0.276237029,0.1056719555,0.1043020501],\n",
    "[0.1398976015,0.1623782033,0.3020108674,0.1596085543,0.2361047735],\n",
    "[0.2414420747,0.3230767145,0.06819123067,0.2063146567,0.1609753234],\n",
    "[0.01602688416,0.06732822475,0.4000845743,0.2186780297,0.2978822871],\n",
    "[0.4694208784,0.04464894679,0.09831647976,0.3673226193,0.02029107578]]"
   ]
  },
  {
   "cell_type": "code",
   "execution_count": 182,
   "metadata": {},
   "outputs": [
    {
     "name": "stdout",
     "output_type": "stream",
     "text": [
      "<bound method MarkovChain.__repr__ of Markov chain with transition matrix \n",
      "P = \n",
      "[[0.27429776 0.2394912  0.27623703 0.10567196 0.10430205]\n",
      " [0.1398976  0.1623782  0.30201087 0.15960855 0.23610477]\n",
      " [0.24144207 0.32307671 0.06819123 0.20631466 0.16097532]\n",
      " [0.01602688 0.06732822 0.40008457 0.21867803 0.29788229]\n",
      " [0.46942088 0.04464895 0.09831648 0.36732262 0.02029108]]>\n"
     ]
    }
   ],
   "source": [
    "mc9=qe.MarkovChain(P9)\n",
    "print(mc9)"
   ]
  },
  {
   "cell_type": "code",
   "execution_count": 183,
   "metadata": {},
   "outputs": [
    {
     "data": {
      "text/plain": [
       "True"
      ]
     },
     "execution_count": 183,
     "metadata": {},
     "output_type": "execute_result"
    }
   ],
   "source": [
    "#Проверим на разложимость (данная матрица неразложима)\n",
    "mc9.is_irreducible"
   ]
  },
  {
   "cell_type": "code",
   "execution_count": 184,
   "metadata": {},
   "outputs": [
    {
     "data": {
      "text/plain": [
       "1"
      ]
     },
     "execution_count": 184,
     "metadata": {},
     "output_type": "execute_result"
    }
   ],
   "source": [
    "#Данная цепь образует 1 неразложимый класс\n",
    "mc9.num_communication_classes"
   ]
  },
  {
   "cell_type": "code",
   "execution_count": 185,
   "metadata": {},
   "outputs": [
    {
     "data": {
      "text/plain": [
       "[array([0, 1, 2, 3, 4])]"
      ]
     },
     "execution_count": 185,
     "metadata": {},
     "output_type": "execute_result"
    }
   ],
   "source": [
    "mc9.communication_classes"
   ]
  },
  {
   "cell_type": "code",
   "execution_count": 186,
   "metadata": {},
   "outputs": [
    {
     "data": {
      "text/plain": [
       "[array([0, 1, 2, 3, 4])]"
      ]
     },
     "execution_count": 186,
     "metadata": {},
     "output_type": "execute_result"
    }
   ],
   "source": [
    "mc9.recurrent_classes"
   ]
  },
  {
   "cell_type": "code",
   "execution_count": 187,
   "metadata": {},
   "outputs": [
    {
     "data": {
      "text/plain": [
       "True"
      ]
     },
     "execution_count": 187,
     "metadata": {},
     "output_type": "execute_result"
    }
   ],
   "source": [
    "#Проверим на апериодичность\n",
    "mc9.is_aperiodic"
   ]
  },
  {
   "cell_type": "code",
   "execution_count": 188,
   "metadata": {},
   "outputs": [
    {
     "data": {
      "text/plain": [
       "1"
      ]
     },
     "execution_count": 188,
     "metadata": {},
     "output_type": "execute_result"
    }
   ],
   "source": [
    "#Период\n",
    "mc9.period"
   ]
  },
  {
   "cell_type": "code",
   "execution_count": null,
   "metadata": {},
   "outputs": [],
   "source": []
  },
  {
   "cell_type": "code",
   "execution_count": 195,
   "metadata": {},
   "outputs": [],
   "source": [
    "P10=[[0.556054913,0.443945087,0,0,0],\n",
    "[0,0,0.6155749056,0.3844250944,0],\n",
    "[0.4700347821,0,0,0,0.5299652179],\n",
    "[0,0.2140780838,0.7859219162,0,0],\n",
    "[0,0,0.633299081,0.366700919,0]]"
   ]
  },
  {
   "cell_type": "code",
   "execution_count": 196,
   "metadata": {},
   "outputs": [
    {
     "name": "stdout",
     "output_type": "stream",
     "text": [
      "<bound method MarkovChain.__repr__ of Markov chain with transition matrix \n",
      "P = \n",
      "[[0.55605491 0.44394509 0.         0.         0.        ]\n",
      " [0.         0.         0.61557491 0.38442509 0.        ]\n",
      " [0.47003478 0.         0.         0.         0.52996522]\n",
      " [0.         0.21407808 0.78592192 0.         0.        ]\n",
      " [0.         0.         0.63329908 0.36670092 0.        ]]>\n"
     ]
    }
   ],
   "source": [
    "mc10=qe.MarkovChain(P10)\n",
    "print(mc10)"
   ]
  },
  {
   "cell_type": "code",
   "execution_count": 197,
   "metadata": {},
   "outputs": [
    {
     "data": {
      "text/plain": [
       "True"
      ]
     },
     "execution_count": 197,
     "metadata": {},
     "output_type": "execute_result"
    }
   ],
   "source": [
    "#Проверим на разложимость (данная матрица неразложима)\n",
    "mc10.is_irreducible"
   ]
  },
  {
   "cell_type": "code",
   "execution_count": 198,
   "metadata": {},
   "outputs": [
    {
     "data": {
      "text/plain": [
       "1"
      ]
     },
     "execution_count": 198,
     "metadata": {},
     "output_type": "execute_result"
    }
   ],
   "source": [
    "#Данная цепь образует 1 неразложимый класс\n",
    "mc10.num_communication_classes"
   ]
  },
  {
   "cell_type": "code",
   "execution_count": 199,
   "metadata": {},
   "outputs": [
    {
     "data": {
      "text/plain": [
       "[array([0, 1, 2, 3, 4])]"
      ]
     },
     "execution_count": 199,
     "metadata": {},
     "output_type": "execute_result"
    }
   ],
   "source": [
    "mc10.communication_classes"
   ]
  },
  {
   "cell_type": "code",
   "execution_count": 200,
   "metadata": {},
   "outputs": [
    {
     "data": {
      "text/plain": [
       "[array([0, 1, 2, 3, 4])]"
      ]
     },
     "execution_count": 200,
     "metadata": {},
     "output_type": "execute_result"
    }
   ],
   "source": [
    "mc10.recurrent_classes"
   ]
  },
  {
   "cell_type": "code",
   "execution_count": 201,
   "metadata": {},
   "outputs": [
    {
     "data": {
      "text/plain": [
       "True"
      ]
     },
     "execution_count": 201,
     "metadata": {},
     "output_type": "execute_result"
    }
   ],
   "source": [
    "#Проверим на апериодичность\n",
    "mc10.is_aperiodic"
   ]
  },
  {
   "cell_type": "code",
   "execution_count": 202,
   "metadata": {},
   "outputs": [
    {
     "data": {
      "text/plain": [
       "1"
      ]
     },
     "execution_count": 202,
     "metadata": {},
     "output_type": "execute_result"
    }
   ],
   "source": [
    "#Период\n",
    "mc10.period"
   ]
  },
  {
   "cell_type": "code",
   "execution_count": null,
   "metadata": {},
   "outputs": [],
   "source": []
  },
  {
   "cell_type": "markdown",
   "metadata": {},
   "source": [
    "**Заключение:** Данные матрицы были рассмотрены на свойства (разложимость, переодичность, количество периодов и количество неразложимых классов).\n",
    "\n",
    "Марковские свойства оказались у всех матриц похожими, т.к. присутствует очень большая точность в данных."
   ]
  },
  {
   "cell_type": "code",
   "execution_count": null,
   "metadata": {},
   "outputs": [],
   "source": []
  }
 ],
 "metadata": {
  "kernelspec": {
   "display_name": "Python 3",
   "language": "python",
   "name": "python3"
  },
  "language_info": {
   "codemirror_mode": {
    "name": "ipython",
    "version": 3
   },
   "file_extension": ".py",
   "mimetype": "text/x-python",
   "name": "python",
   "nbconvert_exporter": "python",
   "pygments_lexer": "ipython3",
   "version": "3.7.7"
  }
 },
 "nbformat": 4,
 "nbformat_minor": 4
}
